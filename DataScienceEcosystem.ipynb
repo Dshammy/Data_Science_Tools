{
 "cells": [
  {
   "cell_type": "markdown",
   "id": "99148765-7d4a-4a07-9395-cfaf627ece14",
   "metadata": {},
   "source": [
    "# Data Science Tools and Ecosystem"
   ]
  },
  {
   "cell_type": "markdown",
   "id": "e9b369bc-68f2-440c-a9fc-21af258092ec",
   "metadata": {},
   "source": [
    "# In this notebook, Data Science Tools and Ecosystem are summarized."
   ]
  },
  {
   "cell_type": "markdown",
   "id": "48a92267-5d5d-4c15-b3f9-8a49371449d9",
   "metadata": {},
   "source": [
    "# Some of the popular languages that Data Scientists use are:\n",
    "#    1. SQL\n",
    "#    2. Python\n",
    "#    3. R    "
   ]
  },
  {
   "cell_type": "markdown",
   "id": "5dd302f7-ee5a-4b56-b487-21cd7e03918d",
   "metadata": {},
   "source": [
    "# Some of the commonly used libraries used by Data Scientists include:\n",
    "#    1. Pandas\n",
    "#    2. NumPy\n",
    "#    3. Scikit-Learn"
   ]
  },
  {
   "cell_type": "markdown",
   "id": "d4368026-2bca-4071-9078-a93772c7c95a",
   "metadata": {},
   "source": [
    "|Data Science Tools|\n",
    "|:-----:|\r\n",
    "| MySQL |\r\n",
    "| Apache Airflow |\r\n",
    "| Github |"
   ]
  },
  {
   "cell_type": "markdown",
   "id": "9d2625d3-cdf6-4951-adca-d41fb5186e42",
   "metadata": {},
   "source": [
    "### Below are a few examples of evaluating arithmetic expressions in Python"
   ]
  },
  {
   "cell_type": "code",
   "execution_count": 1,
   "id": "02af12fb-5d2f-456d-bf09-3b64fb1bcb31",
   "metadata": {},
   "outputs": [
    {
     "data": {
      "text/plain": [
       "17"
      ]
     },
     "execution_count": 1,
     "metadata": {},
     "output_type": "execute_result"
    }
   ],
   "source": [
    "(3*4)+5\n",
    "# This a simple arithmetic expression to mutiply then add integers"
   ]
  },
  {
   "cell_type": "code",
   "execution_count": 2,
   "id": "b032b007-1852-4556-8aa1-08141b0da1ba",
   "metadata": {},
   "outputs": [
    {
     "data": {
      "text/plain": [
       "33.333333333333336"
      ]
     },
     "execution_count": 2,
     "metadata": {},
     "output_type": "execute_result"
    }
   ],
   "source": [
    "200 /6\n",
    "# This will convert 200 minutes to hours by diving by 60"
   ]
  },
  {
   "cell_type": "markdown",
   "id": "6cabcc96-be95-4b96-86f0-c107ae877e56",
   "metadata": {},
   "source": [
    "# Objectives:\n",
    "- R\n",
    "- Github\n",
    "- Matplotlib\n",
    "- Seaborn\n"
   ]
  },
  {
   "cell_type": "markdown",
   "id": "8b8d76e6-8649-44f5-b24b-d15300374c85",
   "metadata": {},
   "source": [
    "## Author\n",
    "Devin Baird"
   ]
  }
 ],
 "metadata": {
  "kernelspec": {
   "display_name": "Python 3 (ipykernel)",
   "language": "python",
   "name": "python3"
  },
  "language_info": {
   "codemirror_mode": {
    "name": "ipython",
    "version": 3
   },
   "file_extension": ".py",
   "mimetype": "text/x-python",
   "name": "python",
   "nbconvert_exporter": "python",
   "pygments_lexer": "ipython3",
   "version": "3.11.7"
  }
 },
 "nbformat": 4,
 "nbformat_minor": 5
}
